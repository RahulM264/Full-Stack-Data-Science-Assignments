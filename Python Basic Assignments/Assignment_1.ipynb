{
 "cells": [
  {
   "cell_type": "markdown",
   "id": "0e1fae93",
   "metadata": {},
   "source": [
    "## 1. In the below elements which of them are values or an expression? eg:- values can be\n",
    "## integer or string and expressions will be mathematical operators.\n",
    "\n",
    "## * , hello , -87.8 , - , / , + , 6"
   ]
  },
  {
   "cell_type": "markdown",
   "id": "373b4c2d",
   "metadata": {},
   "source": [
    "* - Expression\n",
    "'hello' - Value\n",
    "-87.8 - Value\n",
    "-     - Expression\n",
    "/ - Expression\n",
    "+ - Expression\n",
    "6 - Value"
   ]
  },
  {
   "cell_type": "markdown",
   "id": "bfd993b1",
   "metadata": {},
   "source": [
    "## 2. What is the difference between string and variable?"
   ]
  },
  {
   "cell_type": "markdown",
   "id": "7251d7c2",
   "metadata": {},
   "source": [
    "String is a datatype that is available by default in Python. It is a type of data that represents characters and textual data.\n",
    "\n",
    "Variable is a container or an instance that can be used to store data in main memory for execution\n",
    "\n",
    "\n",
    "Ex :- 'rahul' is a string which can be stored in a variable name\n",
    "       name = 'rahul'"
   ]
  },
  {
   "cell_type": "markdown",
   "id": "8b4db3d4",
   "metadata": {},
   "source": [
    "## 3. Describe three different data types."
   ]
  },
  {
   "cell_type": "markdown",
   "id": "d26f9b6c",
   "metadata": {},
   "source": [
    "1. Int :- This datatype is used to represent integer values like 2,100,0 etc\n",
    "2. Float :- This datatype is used to represent decimal and floating point numbers like -100.2, 0.8 etc\n",
    "3. Boolean :- This datatype has either True or False as its value and is mainly used in control flow statements"
   ]
  },
  {
   "cell_type": "markdown",
   "id": "84957e31",
   "metadata": {},
   "source": [
    "## 4. What is an expression made up of? What do all expressions do?"
   ]
  },
  {
   "cell_type": "markdown",
   "id": "1d5560bc",
   "metadata": {},
   "source": [
    "Expressions are representations of value. They are different from statement in the fact that statements do something while expressions are representation of value."
   ]
  },
  {
   "cell_type": "markdown",
   "id": "a9214222",
   "metadata": {},
   "source": [
    "## 5. This assignment statements, like spam = 10. What is the difference between an\n",
    "## expression and a statement?"
   ]
  },
  {
   "cell_type": "markdown",
   "id": "05c0306f",
   "metadata": {},
   "source": [
    "Expressions only contain identifiers, literals and operators, where operators include arithmetic and boolean operators, the function call operator () the subscription operator [] and similar, and can be reduced to some kind of \"value\", which can be any Python object. \n",
    "\n",
    "Statements, on the other hand, are everything that can make up a line (or several lines) of Python code. Note that expressions are statements as well. "
   ]
  },
  {
   "cell_type": "markdown",
   "id": "f6385f02",
   "metadata": {},
   "source": [
    "## 6. After running the following code, what does the variable bacon contain?\n"
   ]
  },
  {
   "cell_type": "code",
   "execution_count": 1,
   "id": "fe9b14e5",
   "metadata": {},
   "outputs": [
    {
     "data": {
      "text/plain": [
       "23"
      ]
     },
     "execution_count": 1,
     "metadata": {},
     "output_type": "execute_result"
    }
   ],
   "source": [
    "bacon = 22\n",
    "bacon + 1"
   ]
  },
  {
   "cell_type": "code",
   "execution_count": 2,
   "id": "73e11f75",
   "metadata": {},
   "outputs": [
    {
     "data": {
      "text/plain": [
       "22"
      ]
     },
     "execution_count": 2,
     "metadata": {},
     "output_type": "execute_result"
    }
   ],
   "source": [
    "bacon"
   ]
  },
  {
   "cell_type": "markdown",
   "id": "1e77f4ee",
   "metadata": {},
   "source": [
    "Bacon still contains the value 22 as bacon + 1 hasn't been assigned to the variable bacon again. SO bacon still has the value of 22"
   ]
  },
  {
   "cell_type": "markdown",
   "id": "e5000bfe",
   "metadata": {},
   "source": [
    "## 7. What should the values of the following two terms be?"
   ]
  },
  {
   "cell_type": "code",
   "execution_count": 3,
   "id": "1bd43480",
   "metadata": {},
   "outputs": [
    {
     "data": {
      "text/plain": [
       "'spamspamspam'"
      ]
     },
     "execution_count": 3,
     "metadata": {},
     "output_type": "execute_result"
    }
   ],
   "source": [
    "'spam'+'spamspam'\n",
    "\n",
    "#The output is spamspamspam as this is string concatenation operation"
   ]
  },
  {
   "cell_type": "code",
   "execution_count": 4,
   "id": "f4d9dab5",
   "metadata": {},
   "outputs": [
    {
     "data": {
      "text/plain": [
       "'spamspamspam'"
      ]
     },
     "execution_count": 4,
     "metadata": {},
     "output_type": "execute_result"
    }
   ],
   "source": [
    "'spam'*3\n",
    "\n",
    "#The output is again spamspamspam as this is string multiplication and the string gets multiplied 3 times similar to addition"
   ]
  },
  {
   "cell_type": "markdown",
   "id": "fe6d18b8",
   "metadata": {},
   "source": [
    "## 8. Why is eggs a valid variable name while 100 is invalid?"
   ]
  },
  {
   "cell_type": "markdown",
   "id": "36117f00",
   "metadata": {},
   "source": [
    "eggs is a valid variable name as it follows all the conditions for nomenclature of variable naming.\n",
    "\n",
    "While 100 cannot be a valid variable name as variable names cannot begin with integer values and since 100 is an integer, it cannot be used as a variable name"
   ]
  },
  {
   "cell_type": "markdown",
   "id": "590619e2",
   "metadata": {},
   "source": [
    "## 9. What three functions can be used to get the integer, floating-point number, or string\n",
    "## version of a value?"
   ]
  },
  {
   "cell_type": "markdown",
   "id": "49147801",
   "metadata": {},
   "source": [
    "int()\n",
    "float()\n",
    "str()\n",
    "\n",
    "These are the three functions that can be used to get the integer, floating-point and string version of a value"
   ]
  },
  {
   "cell_type": "markdown",
   "id": "e11378e9",
   "metadata": {},
   "source": [
    "## 10. Why does this expression cause an error? How can you fix it?"
   ]
  },
  {
   "cell_type": "code",
   "execution_count": 5,
   "id": "3a592837",
   "metadata": {},
   "outputs": [
    {
     "ename": "TypeError",
     "evalue": "can only concatenate str (not \"int\") to str",
     "output_type": "error",
     "traceback": [
      "\u001b[1;31m---------------------------------------------------------------------------\u001b[0m",
      "\u001b[1;31mTypeError\u001b[0m                                 Traceback (most recent call last)",
      "\u001b[1;32m<ipython-input-5-22e456d4a8e2>\u001b[0m in \u001b[0;36m<module>\u001b[1;34m\u001b[0m\n\u001b[1;32m----> 1\u001b[1;33m \u001b[1;34m'I have eaten'\u001b[0m\u001b[1;33m+\u001b[0m\u001b[1;36m99\u001b[0m\u001b[1;33m+\u001b[0m\u001b[1;34m'burritos'\u001b[0m\u001b[1;33m\u001b[0m\u001b[1;33m\u001b[0m\u001b[0m\n\u001b[0m\u001b[0;32m      2\u001b[0m \u001b[1;33m\u001b[0m\u001b[0m\n\u001b[0;32m      3\u001b[0m \u001b[1;31m#\u001b[0m\u001b[1;33m\u001b[0m\u001b[1;33m\u001b[0m\u001b[1;33m\u001b[0m\u001b[0m\n",
      "\u001b[1;31mTypeError\u001b[0m: can only concatenate str (not \"int\") to str"
     ]
    }
   ],
   "source": [
    "'I have eaten'+99+'burritos'\n",
    "\n",
    "# "
   ]
  },
  {
   "cell_type": "markdown",
   "id": "8f586566",
   "metadata": {},
   "source": [
    "This expression causes an error as we are trying to add two different datatypes namely int and string and python cannot do it.\n",
    "\n",
    "To fix this, we can convert or type cast the value of 99 from int to string so everything will be in same datatype"
   ]
  },
  {
   "cell_type": "code",
   "execution_count": 7,
   "id": "08a41065",
   "metadata": {},
   "outputs": [
    {
     "data": {
      "text/plain": [
       "'I have eaten 99 burritos'"
      ]
     },
     "execution_count": 7,
     "metadata": {},
     "output_type": "execute_result"
    }
   ],
   "source": [
    "'I have eaten '+'99'+' burritos'"
   ]
  },
  {
   "cell_type": "code",
   "execution_count": 8,
   "id": "4d91d272",
   "metadata": {},
   "outputs": [
    {
     "data": {
      "text/plain": [
       "'I have eaten 99 burritos'"
      ]
     },
     "execution_count": 8,
     "metadata": {},
     "output_type": "execute_result"
    }
   ],
   "source": [
    "'I have eaten '+str(99)+' burritos'"
   ]
  },
  {
   "cell_type": "code",
   "execution_count": null,
   "id": "968f5273",
   "metadata": {},
   "outputs": [],
   "source": []
  }
 ],
 "metadata": {
  "kernelspec": {
   "display_name": "Python 3",
   "language": "python",
   "name": "python3"
  },
  "language_info": {
   "codemirror_mode": {
    "name": "ipython",
    "version": 3
   },
   "file_extension": ".py",
   "mimetype": "text/x-python",
   "name": "python",
   "nbconvert_exporter": "python",
   "pygments_lexer": "ipython3",
   "version": "3.8.8"
  }
 },
 "nbformat": 4,
 "nbformat_minor": 5
}
